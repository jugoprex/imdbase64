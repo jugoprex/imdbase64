{
 "cells": [
  {
   "cell_type": "code",
   "execution_count": null,
   "metadata": {},
   "outputs": [],
   "source": [
    "import os\n",
    "import pandas as pd\n",
    "import numpy as np\n",
    "import matplotlib.pyplot as plt\n",
    "import zipfile"
   ]
  },
  {
   "cell_type": "code",
   "execution_count": null,
   "metadata": {},
   "outputs": [],
   "source": [
    "# open zip file\n",
    "path = 'data/families.zip'\n",
    "# extract all files\n",
    "\n",
    "with zipfile.ZipFile(path, 'r') as zip_ref:\n",
    "    zip_ref.extractall('data/unzipped/')"
   ]
  },
  {
   "cell_type": "code",
   "execution_count": null,
   "metadata": {},
   "outputs": [],
   "source": [
    "# for each file in the unzipped folder\n",
    "# read the file, add a column with the file name, and append to a global dataframe\n",
    "data = pd.DataFrame()\n",
    "for file in os.listdir('data/unzipped/'):\n",
    "    df = pd.read_csv('data/unzipped/'+file)\n",
    "    id = file.split('.')[0].split('_')[1]\n",
    "    df['id'] = id\n",
    "    data = pd.concat([data, df])\n"
   ]
  },
  {
   "cell_type": "code",
   "execution_count": null,
   "metadata": {},
   "outputs": [],
   "source": [
    "data"
   ]
  },
  {
   "cell_type": "code",
   "execution_count": null,
   "metadata": {},
   "outputs": [],
   "source": [
    "# for each family (id), download all images in url column and save them in a folder with the family id.\n",
    "import requests\n",
    "import shutil\n",
    "\n",
    "for index, row in data.iterrows():\n",
    "    id = row['id']\n",
    "    url = row['url']\n",
    "    image = row['image']\n",
    "    response = requests.get(url, stream=True)\n",
    "    \n",
    "    if not os.path.exists('data/images/'+'/family_'+id):\n",
    "        os.makedirs('data/images/'+'/family_'+id)\n",
    "    \n",
    "    with open('data/images/'+'/family_'+id+'/'+image, 'wb') as out_file:\n",
    "        shutil.copyfileobj(response.raw, out_file)\n",
    "    del response\n",
    "\n"
   ]
  }
 ],
 "metadata": {
  "kernelspec": {
   "display_name": ".venv",
   "language": "python",
   "name": "python3"
  },
  "language_info": {
   "codemirror_mode": {
    "name": "ipython",
    "version": 3
   },
   "file_extension": ".py",
   "mimetype": "text/x-python",
   "name": "python",
   "nbconvert_exporter": "python",
   "pygments_lexer": "ipython3",
   "version": "3.10.12"
  }
 },
 "nbformat": 4,
 "nbformat_minor": 2
}
